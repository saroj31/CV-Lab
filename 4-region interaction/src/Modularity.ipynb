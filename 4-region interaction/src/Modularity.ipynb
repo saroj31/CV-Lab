{
 "cells": [
  {
   "cell_type": "code",
   "execution_count": 12,
   "metadata": {
    "collapsed": false
   },
   "outputs": [
    {
     "name": "stdout",
     "output_type": "stream",
     "text": [
      "0.3520000000000001\n",
      "0.354\n",
      "0.29200000000000004\n",
      "0.29399999999999993\n",
      "0.494\n",
      "0.49400000000000005\n",
      "0.11900000000000001\n",
      "0.12100000000000001\n",
      "0.26963499999999996\n"
     ]
    },
    {
     "data": {
      "text/plain": [
       "0.267158"
      ]
     },
     "execution_count": 12,
     "metadata": {},
     "output_type": "execute_result"
    }
   ],
   "source": [
    "#Black\n",
    "ebb = 0.258\n",
    "ebw = .035\n",
    "ewb = .013\n",
    "ebh = .016\n",
    "ehb = .012\n",
    "ebo = .013\n",
    "eob = .005\n",
    "\n",
    "ab = ebb + ebw + ewb + ebh + ehb + ebo + eob\n",
    "print(ab)\n",
    "print(.323 + .289 - .258)\n",
    "\n",
    "#Hispanic\n",
    "ehb = .012\n",
    "ehh = .157\n",
    "ehw = .058\n",
    "ewh = .023\n",
    "eho = .019\n",
    "eoh = .007\n",
    "\n",
    "ah = ehb + ebh + ehh + + ewh + ehw + eho + eoh\n",
    "print(ah)\n",
    "print(.247 + .204 -.157)\n",
    "\n",
    "#White\n",
    "eww = .306\n",
    "ewo = .035\n",
    "eow = .024\n",
    "\n",
    "aw = ewb + ebw + ewh + ehw + eww + ewo + eow\n",
    "print(aw)\n",
    "print(.423 + .377 - .306 )\n",
    "\n",
    "#other\n",
    "eoo = .016\n",
    "ao = eob + ebo + eoh + eho + eow + ewo + eoo\n",
    "print(ao)\n",
    "print(.084 + .053 -.016)\n",
    "\n",
    "Q = ebb - ab**2 + eww - aw**2 + ehh - ah**2 + eoo - ao**2\n",
    "print(Q)\n",
    "\n",
    "xx = .258 - .354**2 + .306 - .494**2 + .157 - .293**2 + .016 - .121**2\n",
    "xx"
   ]
  }
 ],
 "metadata": {
  "kernelspec": {
   "display_name": "Python 3",
   "language": "python",
   "name": "python3"
  },
  "language_info": {
   "codemirror_mode": {
    "name": "ipython",
    "version": 3
   },
   "file_extension": ".py",
   "mimetype": "text/x-python",
   "name": "python",
   "nbconvert_exporter": "python",
   "pygments_lexer": "ipython3",
   "version": "3.5.3"
  }
 },
 "nbformat": 4,
 "nbformat_minor": 2
}
