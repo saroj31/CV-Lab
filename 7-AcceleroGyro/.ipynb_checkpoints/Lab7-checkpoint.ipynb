{
 "cells": [
  {
   "cell_type": "code",
   "execution_count": 1,
   "metadata": {},
   "outputs": [
    {
     "name": "stdout",
     "output_type": "stream",
     "text": [
      "Index([u'time', u'accX', u'accY', u'accZ', u'pitch', u'roll', u'yaw'], dtype='object')\n"
     ]
    }
   ],
   "source": [
    "import numpy as np\n",
    "import matplotlib.pyplot as plt\n",
    "import pandas as pd\n",
    "import numpy as np\n",
    "%matplotlib inline\n",
    "\n",
    "df = pd.read_csv('acc_gyro.txt',delim_whitespace=True)\n",
    "#print(df[['time','accX','accY']])\n",
    "print(df.columns)\n",
    "\n",
    "# ax = df.plot(x='time',y='accX',figsize=(15,3))\n",
    "# ax = df.plot(x='time',y='accY',figsize=(15,3))\n",
    "# ax = df.plot(x='time',y='accZ',figsize=(15,3))\n",
    "#df.plot(x='time',y='accZ',ax=ax,figsize=(15,10))\n",
    "#ax = df.plot(x='time',y='pitch',ax=ax)\n",
    "#ax = df.plot(x='time',y='roll',ax=ax)\n",
    "#df.plot(x='time',y='yaw',ax=ax,figsize=(15,10))\n",
    "#plt.plot(figsize=(15,10))"
   ]
  },
  {
   "cell_type": "code",
   "execution_count": 2,
   "metadata": {
    "collapsed": true
   },
   "outputs": [],
   "source": [
    "def threshold(dfCol,per=0.1):\n",
    "    odfCol = dfCol\n",
    "    maxX = max(dfCol[4:])\n",
    "    thres = per*maxX\n",
    "\n",
    "    for i,x in enumerate(dfCol):\n",
    "        if(abs(x) > abs(thres)):\n",
    "            odfCol[i] = 1\n",
    "        else:\n",
    "            odfCol[i] = 0\n",
    "\n",
    "    return odfCol\n",
    "\n",
    "def thresholdVal(dfCol,val=0.1):\n",
    "    maxX = max(dfCol)\n",
    "    print(maxX)\n",
    "    thres = np.var(dfCol)*val\n",
    "\n",
    "    for i,x in enumerate(dfCol):\n",
    "        if(abs(x) > abs(thres)):\n",
    "            \n",
    "            dfCol[i] = 1\n",
    "        else:\n",
    "            dfCol[i] = 0\n",
    "\n",
    "    return dfCol\n",
    "\n",
    "def SmoothValMean(dfCol,size=5):\n",
    "    idf = dfCol.rolling(window=size,center=True).mean()\n",
    "    return idf\n",
    "\n",
    "def SmoothValMedian(dfCol,size=5):\n",
    "    idf = dfCol.rolling(window=size,center=True).median()\n",
    "    return idf\n",
    "\n",
    "def RollMax(dfCol,size=5):\n",
    "    idf = dfCol.rolling(window=size,center=True).max()\n",
    "    return idf\n",
    "\n",
    "def makeTimeWindow(indf,attr,MaximSize=5,MeanSize=5,thres=.1,plot=False):\n",
    "    #make a copy of the accX value\n",
    "    if(plot):\n",
    "        indf.plot(x='time',y=attr,figsize=(15,5))\n",
    "\n",
    "    dy = np.gradient(indf[attr],2)\n",
    "    indf['dy'] = dy\n",
    "    if(plot):\n",
    "        indf.plot(x='time',y='dy',figsize=(15,5))\n",
    "\n",
    "    indf['dy'] = SmoothValMean(indf.dy.copy(),MeanSize)\n",
    "    indf['thres'] = threshold(indf.dy.copy(),.1)\n",
    "    if(plot):\n",
    "        indf.plot(x='time',y='thres',figsize=(15,5))\n",
    "    indf['window'] = RollMax(indf.thres.copy(),MaximSize)\n",
    "    #axes = indf.plot(x='time',y='thres',figsize=(15,5))\n",
    "    if plot:\n",
    "        axes = indf.plot(x='time',y='window',figsize=(15,5))\n",
    "        axes.set_ylim([0,2])\n",
    "    \n",
    "    return indf.window"
   ]
  },
  {
   "cell_type": "code",
   "execution_count": 3,
   "metadata": {
    "collapsed": true
   },
   "outputs": [],
   "source": [
    "df['smoothX'] = makeTimeWindow(df.copy(),'accX',MeanSize=6,MaximSize=12,thres=.1,plot=False)"
   ]
  },
  {
   "cell_type": "code",
   "execution_count": 4,
   "metadata": {
    "collapsed": true
   },
   "outputs": [],
   "source": [
    "df['smoothY'] = makeTimeWindow(df.copy(),'accY',MeanSize=6,MaximSize=20,thres=.1,plot=False)"
   ]
  },
  {
   "cell_type": "code",
   "execution_count": 5,
   "metadata": {
    "collapsed": true
   },
   "outputs": [],
   "source": [
    "df['smoothZ'] = makeTimeWindow(df.copy(),'accZ',MeanSize=6,MaximSize=20,thres=.1,plot=False)"
   ]
  },
  {
   "cell_type": "code",
   "execution_count": 6,
   "metadata": {
    "collapsed": true
   },
   "outputs": [],
   "source": [
    "df['smoothP'] = makeTimeWindow(df.copy(),'pitch',MeanSize=7,MaximSize=20,thres=.1,plot=False)"
   ]
  },
  {
   "cell_type": "code",
   "execution_count": 7,
   "metadata": {
    "collapsed": true
   },
   "outputs": [],
   "source": [
    "df['smoothR'] = makeTimeWindow(df.copy(),'roll',MeanSize=9,MaximSize=10,thres=.1,plot=False)"
   ]
  },
  {
   "cell_type": "code",
   "execution_count": 8,
   "metadata": {
    "collapsed": true
   },
   "outputs": [],
   "source": [
    "df['smoothYaw'] = makeTimeWindow(df.copy(),'yaw',MeanSize=9,MaximSize=10,thres=.1,plot=False)"
   ]
  },
  {
   "cell_type": "code",
   "execution_count": 9,
   "metadata": {},
   "outputs": [
    {
     "name": "stdout",
     "output_type": "stream",
     "text": [
      "1250\n",
      "0\n"
     ]
    },
    {
     "name": "stderr",
     "output_type": "stream",
     "text": [
      "C:\\Users\\sdash\\Anaconda2\\lib\\site-packages\\ipykernel_launcher.py:5: SettingWithCopyWarning: \n",
      "A value is trying to be set on a copy of a slice from a DataFrame\n",
      "\n",
      "See the caveats in the documentation: http://pandas.pydata.org/pandas-docs/stable/indexing.html#indexing-view-versus-copy\n",
      "  \"\"\"\n"
     ]
    },
    {
     "name": "stdout",
     "output_type": "stream",
     "text": [
      "100\n",
      "200\n",
      "300\n",
      "400\n",
      "500\n",
      "600\n",
      "700\n",
      "800\n",
      "900\n",
      "1000\n",
      "1100\n",
      "1200\n"
     ]
    }
   ],
   "source": [
    "print(df.shape[0])\n",
    "df['window'] = 0\n",
    "for i in range(0,df.shape[0]):\n",
    "    if(df.smoothX[i] == 1 or df.smoothY[i]==1 or df.smoothZ[i]==1 or df.smoothP[i]==1 or df.smoothR[i]==1 or df.smoothYaw[i]==1):\n",
    "        df.window[i] = 1\n",
    "    if( i%100 == 0):\n",
    "        print(i)\n",
    "\n",
    "        "
   ]
  },
  {
   "cell_type": "code",
   "execution_count": 10,
   "metadata": {},
   "outputs": [
    {
     "name": "stdout",
     "output_type": "stream",
     "text": [
      "1250\n",
      "Index([u'time', u'accX', u'accY', u'accZ', u'pitch', u'roll', u'yaw',\n",
      "       u'smoothX', u'smoothY', u'smoothZ', u'smoothP', u'smoothR',\n",
      "       u'smoothYaw', u'window'],\n",
      "      dtype='object')\n"
     ]
    }
   ],
   "source": [
    "print(df.shape[0])\n",
    "\n",
    "print(df.columns)"
   ]
  },
  {
   "cell_type": "code",
   "execution_count": 26,
   "metadata": {},
   "outputs": [
    {
     "ename": "AttributeError",
     "evalue": "'DataFrame' object has no attribute 'subplot'",
     "output_type": "error",
     "traceback": [
      "\u001b[1;31m---------------------------------------------------------------------------\u001b[0m",
      "\u001b[1;31mAttributeError\u001b[0m                            Traceback (most recent call last)",
      "\u001b[1;32m<ipython-input-26-583730cd80b6>\u001b[0m in \u001b[0;36m<module>\u001b[1;34m()\u001b[0m\n\u001b[0;32m      3\u001b[0m \u001b[1;33m\u001b[0m\u001b[0m\n\u001b[0;32m      4\u001b[0m \u001b[0max\u001b[0m \u001b[1;33m=\u001b[0m \u001b[0mdf\u001b[0m\u001b[1;33m.\u001b[0m\u001b[0mplot\u001b[0m\u001b[1;33m(\u001b[0m\u001b[0mx\u001b[0m\u001b[1;33m=\u001b[0m\u001b[1;34m'time'\u001b[0m\u001b[1;33m,\u001b[0m\u001b[0my\u001b[0m\u001b[1;33m=\u001b[0m\u001b[1;34m'accX'\u001b[0m\u001b[1;33m,\u001b[0m\u001b[0mfigsize\u001b[0m\u001b[1;33m=\u001b[0m\u001b[1;33m(\u001b[0m\u001b[0mw\u001b[0m\u001b[1;33m,\u001b[0m\u001b[0mh\u001b[0m\u001b[1;33m)\u001b[0m\u001b[1;33m)\u001b[0m\u001b[1;33m\u001b[0m\u001b[0m\n\u001b[1;32m----> 5\u001b[1;33m \u001b[0max\u001b[0m \u001b[1;33m=\u001b[0m \u001b[0mdf\u001b[0m\u001b[1;33m.\u001b[0m\u001b[0msubplot\u001b[0m\u001b[1;33m(\u001b[0m\u001b[0mx\u001b[0m\u001b[1;33m=\u001b[0m\u001b[1;34m'time'\u001b[0m\u001b[1;33m,\u001b[0m\u001b[0my\u001b[0m\u001b[1;33m=\u001b[0m\u001b[1;34m'accY'\u001b[0m\u001b[1;33m,\u001b[0m\u001b[0mfigsize\u001b[0m\u001b[1;33m=\u001b[0m\u001b[1;33m(\u001b[0m\u001b[0mw\u001b[0m\u001b[1;33m,\u001b[0m\u001b[0mh\u001b[0m\u001b[1;33m)\u001b[0m\u001b[1;33m)\u001b[0m\u001b[1;31m#,ax=ax)\u001b[0m\u001b[1;33m\u001b[0m\u001b[0m\n\u001b[0m\u001b[0;32m      6\u001b[0m \u001b[0max\u001b[0m \u001b[1;33m=\u001b[0m \u001b[0mdf\u001b[0m\u001b[1;33m.\u001b[0m\u001b[0msubplot\u001b[0m\u001b[1;33m(\u001b[0m\u001b[0mx\u001b[0m\u001b[1;33m=\u001b[0m\u001b[1;34m'time'\u001b[0m\u001b[1;33m,\u001b[0m\u001b[0my\u001b[0m\u001b[1;33m=\u001b[0m\u001b[1;34m'accZ'\u001b[0m\u001b[1;33m,\u001b[0m\u001b[0mfigsize\u001b[0m\u001b[1;33m=\u001b[0m\u001b[1;33m(\u001b[0m\u001b[0mw\u001b[0m\u001b[1;33m,\u001b[0m\u001b[0mh\u001b[0m\u001b[1;33m)\u001b[0m\u001b[1;33m)\u001b[0m\u001b[1;31m#,ax=ax)\u001b[0m\u001b[1;33m\u001b[0m\u001b[0m\n\u001b[0;32m      7\u001b[0m \u001b[0max\u001b[0m \u001b[1;33m=\u001b[0m \u001b[0mdf\u001b[0m\u001b[1;33m.\u001b[0m\u001b[0msubplot\u001b[0m\u001b[1;33m(\u001b[0m\u001b[0mx\u001b[0m\u001b[1;33m=\u001b[0m\u001b[1;34m'time'\u001b[0m\u001b[1;33m,\u001b[0m\u001b[0my\u001b[0m\u001b[1;33m=\u001b[0m\u001b[1;34m'pitch'\u001b[0m\u001b[1;33m,\u001b[0m\u001b[0mfigsize\u001b[0m\u001b[1;33m=\u001b[0m\u001b[1;33m(\u001b[0m\u001b[0mw\u001b[0m\u001b[1;33m,\u001b[0m\u001b[0mh\u001b[0m\u001b[1;33m)\u001b[0m\u001b[1;33m)\u001b[0m\u001b[1;31m#,ax=ax)\u001b[0m\u001b[1;33m\u001b[0m\u001b[0m\n",
      "\u001b[1;32mC:\\Users\\sdash\\Anaconda2\\lib\\site-packages\\pandas\\core\\generic.pyc\u001b[0m in \u001b[0;36m__getattr__\u001b[1;34m(self, name)\u001b[0m\n\u001b[0;32m   3079\u001b[0m             \u001b[1;32mif\u001b[0m \u001b[0mname\u001b[0m \u001b[1;32min\u001b[0m \u001b[0mself\u001b[0m\u001b[1;33m.\u001b[0m\u001b[0m_info_axis\u001b[0m\u001b[1;33m:\u001b[0m\u001b[1;33m\u001b[0m\u001b[0m\n\u001b[0;32m   3080\u001b[0m                 \u001b[1;32mreturn\u001b[0m \u001b[0mself\u001b[0m\u001b[1;33m[\u001b[0m\u001b[0mname\u001b[0m\u001b[1;33m]\u001b[0m\u001b[1;33m\u001b[0m\u001b[0m\n\u001b[1;32m-> 3081\u001b[1;33m             \u001b[1;32mreturn\u001b[0m \u001b[0mobject\u001b[0m\u001b[1;33m.\u001b[0m\u001b[0m__getattribute__\u001b[0m\u001b[1;33m(\u001b[0m\u001b[0mself\u001b[0m\u001b[1;33m,\u001b[0m \u001b[0mname\u001b[0m\u001b[1;33m)\u001b[0m\u001b[1;33m\u001b[0m\u001b[0m\n\u001b[0m\u001b[0;32m   3082\u001b[0m \u001b[1;33m\u001b[0m\u001b[0m\n\u001b[0;32m   3083\u001b[0m     \u001b[1;32mdef\u001b[0m \u001b[0m__setattr__\u001b[0m\u001b[1;33m(\u001b[0m\u001b[0mself\u001b[0m\u001b[1;33m,\u001b[0m \u001b[0mname\u001b[0m\u001b[1;33m,\u001b[0m \u001b[0mvalue\u001b[0m\u001b[1;33m)\u001b[0m\u001b[1;33m:\u001b[0m\u001b[1;33m\u001b[0m\u001b[0m\n",
      "\u001b[1;31mAttributeError\u001b[0m: 'DataFrame' object has no attribute 'subplot'"
     ]
    },
    {
     "data": {
      "image/png": "[encoded data removed]",
      "text/plain": [
       "<matplotlib.figure.Figure at 0xdae3898>"
      ]
     },
     "metadata": {},
     "output_type": "display_data"
    }
   ],
   "source": [
    "w =15\n",
    "h=5\n",
    "\n",
    "ax = df.plot(x='time',y='accX',figsize=(w,h))\n",
    "ax = df.plot(x='time',y='accY',figsize=(w,h))#,ax=ax)\n",
    "ax = df.plot(x='time',y='accZ',figsize=(w,h))#,ax=ax)\n",
    "ax = df.plot(x='time',y='pitch',figsize=(w,h))#,ax=ax)\n",
    "ax = df.plot(x='time',y='roll',figsize=(w,h))#,ax=ax)\n",
    "ax = df.plot(x='time',y='yaw',figsize=(w,h))#,ax=ax)\n",
    "ax = df.plot(x='time',y='window',figsize=(w,h))#,ax=ax)\n",
    "\n",
    "#plt.savefig(\"myFile\")\n",
    "\n",
    "#ax.set_ylim([0,2])"
   ]
  },
  {
   "cell_type": "code",
   "execution_count": 15,
   "metadata": {},
   "outputs": [
    {
     "name": "stdout",
     "output_type": "stream",
     "text": [
      "0     -1.006361\n",
      "1      0.042363\n",
      "2     -0.227658\n",
      "3     -0.253374\n",
      "4      9.461019\n",
      "5     -9.794010\n",
      "6      2.649958\n",
      "7     -0.256079\n",
      "8     91.307923\n",
      "9    -90.247242\n",
      "10     0.146050\n",
      "11    -2.100349\n",
      "Name: pitch, dtype: float64\n"
     ]
    }
   ],
   "source": [
    "import math\n",
    "\n",
    "columns = ['accX','accY','accZ','pitch','roll','yaw']\n",
    "result = pd.DataFrame(columns=columns)\n",
    "#for pitch\n",
    "tmp_df = df\n",
    "#tmp_df.plot(x='time',y='window',figsize=(15,1))\n",
    "tmp_df['grad'] = np.gradient(tmp_df.window)\n",
    "#tmp_df.plot(x='time',y='grad',figsize=(15,1))\n",
    "\n",
    "#print(tmp_df.grad)\n",
    "ix = tmp_df[tmp_df.grad > 0]\n",
    "iy = tmp_df[tmp_df.grad < 0]\n",
    "\n",
    "ix = ix[ix.index%2 == 0]\n",
    "iy = iy[iy.index%2 == 0]\n",
    "\n",
    "pitch = pd.Series()\n",
    "for i in range(0,12):\n",
    "    \n",
    "    x = df[ix.index[i]:iy.index[i]]\n",
    "    res_pitch = (np.trapz(x.pitch,x.time))\n",
    "    pitch.set_value(i,math.degrees(res_pitch))\n",
    "    #print(\"index: \" + str(ix.index[i]) + \"-\" + str(iy.index[i]) + \"::::  \"+str(math.degrees(pitch)))\n",
    "\n",
    "result.pitch = pitch\n",
    "print(result['pitch'])"
   ]
  },
  {
   "cell_type": "code",
   "execution_count": 16,
   "metadata": {},
   "outputs": [
    {
     "name": "stdout",
     "output_type": "stream",
     "text": [
      "0     -0.272638\n",
      "1     -1.314107\n",
      "2     -0.788289\n",
      "3      0.093048\n",
      "4      5.526550\n",
      "5     -9.375685\n",
      "6      0.182487\n",
      "7     -0.215376\n",
      "8     -5.082878\n",
      "9      3.189063\n",
      "10    96.118533\n",
      "11   -91.928200\n",
      "Name: roll, dtype: float64\n"
     ]
    }
   ],
   "source": [
    "import math\n",
    "\n",
    "#for roll\n",
    "tmp_df = df\n",
    "tmp_df['grad'] = np.gradient(tmp_df.window)\n",
    "\n",
    "#print(tmp_df.grad)\n",
    "ix = tmp_df[tmp_df.grad > 0]\n",
    "iy = tmp_df[tmp_df.grad < 0]\n",
    "\n",
    "ix = ix[ix.index%2 == 0]\n",
    "iy = iy[iy.index%2 == 0]\n",
    "\n",
    "roll = pd.Series()\n",
    "for i in range(0,12):\n",
    "    x = df[ix.index[i]:iy.index[i]]\n",
    "    res_roll = np.trapz(x.roll,x.time)\n",
    "    roll.set_value(i,math.degrees(res_roll)) \n",
    "\n",
    "result.roll = roll\n",
    "print(result.roll)"
   ]
  },
  {
   "cell_type": "code",
   "execution_count": 17,
   "metadata": {},
   "outputs": [
    {
     "name": "stdout",
     "output_type": "stream",
     "text": [
      "0     -1.461611\n",
      "1      1.296604\n",
      "2     -1.555110\n",
      "3      2.407524\n",
      "4     -4.514550\n",
      "5      3.383318\n",
      "6     89.773668\n",
      "7    -88.301142\n",
      "8     -4.068246\n",
      "9      3.115502\n",
      "10    -4.171722\n",
      "11     2.611281\n",
      "Name: yaw, dtype: float64\n"
     ]
    }
   ],
   "source": [
    "#for pitch\n",
    "tmp_df = df\n",
    "#tmp_df.plot(x='time',y='window',figsize=(15,1))\n",
    "tmp_df['grad'] = np.gradient(tmp_df.window)\n",
    "#tmp_df.plot(x='time',y='grad',figsize=(15,1))\n",
    "\n",
    "#print(tmp_df.grad)\n",
    "ix = tmp_df[tmp_df.grad > 0]\n",
    "iy = tmp_df[tmp_df.grad < 0]\n",
    "\n",
    "ix = ix[ix.index%2 == 0]\n",
    "iy = iy[iy.index%2 == 0]\n",
    "\n",
    "yaw = pd.Series()\n",
    "for i in range(0,12):\n",
    "    \n",
    "    x = df[ix.index[i]:iy.index[i]]\n",
    "    res_yaw = np.trapz(x.yaw,x.time)\n",
    "    yaw.set_value(i,math.degrees(res_yaw))\n",
    "    \n",
    "result.yaw = yaw\n",
    "print(result.yaw)\n"
   ]
  },
  {
   "cell_type": "code",
   "execution_count": 18,
   "metadata": {},
   "outputs": [
    {
     "name": "stdout",
     "output_type": "stream",
     "text": [
      "0      0.686278\n",
      "1      1.488972\n",
      "2      2.336645\n",
      "3      4.428480\n",
      "4      5.799891\n",
      "5     10.245262\n",
      "6      7.349091\n",
      "7      8.936717\n",
      "8      8.986548\n",
      "9     10.244195\n",
      "10    20.411652\n",
      "11    40.952767\n",
      "Name: accX, dtype: float64\n"
     ]
    }
   ],
   "source": [
    "import scipy as sp\n",
    "from scipy import integrate\n",
    "\n",
    "#for pitch\n",
    "tmp_df = df\n",
    "#tmp_df.plot(x='time',y='window',figsize=(15,1))\n",
    "tmp_df['grad'] = np.gradient(tmp_df.window)\n",
    "#tmp_df.plot(x='time',y='grad',figsize=(15,1))\n",
    "\n",
    "#print(tmp_df.grad)\n",
    "ix = tmp_df[tmp_df.grad > 0]\n",
    "iy = tmp_df[tmp_df.grad < 0]\n",
    "\n",
    "ix = ix[ix.index%2 == 0]\n",
    "iy = iy[iy.index%2 == 0]\n",
    "\n",
    "accX = pd.Series()\n",
    "for i in range(0,12):\n",
    "    xdist = 0\n",
    "    x = df[ix.index[i]:iy.index[i]]\n",
    "    vdist = integrate.cumtrapz(x.accX,x.time,initial=x.time.iloc[0])\n",
    "    vdist = pd.Series(vdist)\n",
    "    xdist = np.trapz(vdist,x.time)\n",
    "    accX.set_value(i,xdist*9.8)\n",
    "\n",
    "result.accX = accX\n",
    "print(result.accX)"
   ]
  },
  {
   "cell_type": "code",
   "execution_count": 19,
   "metadata": {},
   "outputs": [
    {
     "name": "stdout",
     "output_type": "stream",
     "text": [
      "0     -0.076196\n",
      "1      1.969357\n",
      "2      2.669630\n",
      "3      3.442385\n",
      "4      4.023753\n",
      "5      3.049033\n",
      "6      7.431402\n",
      "7      9.264100\n",
      "8     -3.315255\n",
      "9    -17.232202\n",
      "10    12.880996\n",
      "11    14.108815\n",
      "Name: accY, dtype: float64\n"
     ]
    }
   ],
   "source": [
    "import scipy as sp\n",
    "from scipy import integrate\n",
    "\n",
    "#for pitch\n",
    "tmp_df = df\n",
    "tmp_df['grad'] = np.gradient(tmp_df.window)\n",
    "#tmp_df.plot(x='time',y='grad',figsize=(15,1))\n",
    "\n",
    "#print(tmp_df.grad)\n",
    "ix = tmp_df[tmp_df.grad > 0]\n",
    "iy = tmp_df[tmp_df.grad < 0]\n",
    "\n",
    "ix = ix[ix.index%2 == 0]\n",
    "iy = iy[iy.index%2 == 0]\n",
    "\n",
    "accY = pd.Series()\n",
    "for i in range(0,12):\n",
    "\n",
    "    x = df[ix.index[i]:iy.index[i]]\n",
    "    vdist = integrate.cumtrapz(x.accY,x.time,initial=x.time.iloc[0])\n",
    "    vdist = pd.Series(vdist)\n",
    "    ydist = np.trapz(vdist,x.time)\n",
    "    accY.set_value(i,ydist*9.8)\n",
    "\n",
    "result.accY = accY\n",
    "print(result.accY)"
   ]
  },
  {
   "cell_type": "code",
   "execution_count": 20,
   "metadata": {},
   "outputs": [
    {
     "name": "stdout",
     "output_type": "stream",
     "text": [
      "0    -31.363877\n",
      "1    -27.785308\n",
      "2    -15.867177\n",
      "3    -33.091470\n",
      "4    -20.295145\n",
      "5    -25.042670\n",
      "6    -31.781640\n",
      "7    -15.580414\n",
      "8    -16.145610\n",
      "9      0.252773\n",
      "10    -6.550533\n",
      "11     4.437048\n",
      "Name: accZ, dtype: float64\n"
     ]
    }
   ],
   "source": [
    "import scipy as sp\n",
    "from scipy import integrate\n",
    "\n",
    "#for pitch\n",
    "tmp_df = df.copy()\n",
    "tmp_df['grad'] = np.gradient(tmp_df.window)\n",
    "#tmp_df.plot(x='time',y='grad',figsize=(15,1))\n",
    "\n",
    "#print(tmp_df.grad)\n",
    "ix = tmp_df[tmp_df.grad > 0]\n",
    "iy = tmp_df[tmp_df.grad < 0]\n",
    "\n",
    "ix = ix[ix.index%2 == 0]\n",
    "iy = iy[iy.index%2 == 0]\n",
    "\n",
    "accZ = pd.Series()\n",
    "for i in range(0,12):\n",
    "\n",
    "    x = df[ix.index[i]:iy.index[i]]\n",
    "    vdist = integrate.cumtrapz(x.accZ,x.time,initial=x.time.iloc[0])\n",
    "    vdist = pd.Series(vdist)\n",
    "    zdist = np.trapz(vdist,x.time)\n",
    "    accZ.set_value(i,zdist*9.8)\n",
    "\n",
    "result.accZ = accZ\n",
    "print(result.accZ)"
   ]
  },
  {
   "cell_type": "code",
   "execution_count": 22,
   "metadata": {},
   "outputs": [
    {
     "name": "stdout",
     "output_type": "stream",
     "text": [
      "         accX       accY       accZ      pitch       roll        yaw\n",
      "0    0.686278  -0.076196 -31.363877  -1.006361  -0.272638  -1.461611\n",
      "1    1.488972   1.969357 -27.785308   0.042363  -1.314107   1.296604\n",
      "2    2.336645   2.669630 -15.867177  -0.227658  -0.788289  -1.555110\n",
      "3    4.428480   3.442385 -33.091470  -0.253374   0.093048   2.407524\n",
      "4    5.799891   4.023753 -20.295145   9.461019   5.526550  -4.514550\n",
      "5   10.245262   3.049033 -25.042670  -9.794010  -9.375685   3.383318\n",
      "6    7.349091   7.431402 -31.781640   2.649958   0.182487  89.773668\n",
      "7    8.936717   9.264100 -15.580414  -0.256079  -0.215376 -88.301142\n",
      "8    8.986548  -3.315255 -16.145610  91.307923  -5.082878  -4.068246\n",
      "9   10.244195 -17.232202   0.252773 -90.247242   3.189063   3.115502\n",
      "10  20.411652  12.880996  -6.550533   0.146050  96.118533  -4.171722\n",
      "11  40.952767  14.108815   4.437048  -2.100349 -91.928200   2.611281\n"
     ]
    }
   ],
   "source": [
    "print(result)\n",
    "result.to_csv(\"result.csv\")"
   ]
  }
 ],
 "metadata": {
  "kernelspec": {
   "display_name": "Python 2",
   "language": "python",
   "name": "python2"
  },
  "language_info": {
   "codemirror_mode": {
    "name": "ipython",
    "version": 2
   },
   "file_extension": ".py",
   "mimetype": "text/x-python",
   "name": "python",
   "nbconvert_exporter": "python",
   "pygments_lexer": "ipython2",
   "version": "2.7.14"
  }
 },
 "nbformat": 4,
 "nbformat_minor": 2
}
